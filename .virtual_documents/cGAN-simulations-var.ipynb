import pandas as pd
import numpy as np
from tqdm import tqdm

def load_portfolio_returns(ticker_file, data_path, valid_ratio=0.8):
    tickers = pd.read_csv(ticker_file)['ticker'].tolist()
    price_data = {}

    for ticker in tqdm(tickers, desc="📥 Loading price data"):
        df = pd.read_csv(f"{data_path}/{ticker}.csv", parse_dates=['date'], index_col='date')
        price_data[ticker] = df['close']

    df_prices = pd.concat(price_data, axis=1)
    df_prices = df_prices[df_prices.count(axis=1) >= int(valid_ratio * len(df_prices.columns))]
    df_prices = df_prices.ffill().bfill()
    log_returns = np.log(df_prices / df_prices.shift(1)).dropna()

    weights = np.array([1 / len(log_returns.columns)] * len(log_returns.columns))
    portfolio_returns = log_returns.dot(weights)

    return portfolio_returns

portfolio_returns = load_portfolio_returns('nasdaq_tickers.csv', 'stock_data/eod')
print(f"✅ Loaded {len(portfolio_returns)} return days")



import torch
import torch.nn as nn

class Generator(nn.Module):
    def __init__(self, noise_dim, condition_dim, output_dim):
        super().__init__()
        self.model = nn.Sequential(
            nn.Linear(noise_dim + condition_dim, 128),
            nn.ReLU(),
            nn.Linear(128, output_dim)
        )

    def forward(self, noise, condition):
        x = torch.cat([noise, condition], dim=1)
        return self.model(x)

# Load the model
condition_window = 250
prediction_horizon = 250
noise_dim = 32

G = Generator(noise_dim, condition_window, prediction_horizon)
G.load_state_dict(torch.load("models/cgan/generic/generator.pth"))
G.eval()

print("✅ Generator model loaded")



def simulate_generic_condition(
    G, condition_returns, horizon=30, n_sim=1_000_000, initial_value=100_000_000
):
    """
    Uses the last 250 days of condition_returns to generate `horizon`-day simulations.
    """
    assert len(condition_returns) >= 250, "Need at least 250 days of condition data."

    input_condition = condition_returns[-250:]
    with torch.no_grad():
        cond = torch.tensor(input_condition, dtype=torch.float32).unsqueeze(0).repeat(n_sim, 1)
        noise = torch.randn(n_sim, noise_dim)
        full_returns = G(noise, cond).numpy()
        sliced_returns = full_returns[:, :horizon]
        paths = np.exp(np.cumsum(sliced_returns, axis=1)) * initial_value
        final_vals = paths[:, -1]
        var_95 = initial_value - np.percentile(final_vals, 5)
    return paths, final_vals, var_95



import matplotlib.pyplot as plt

horizons = [1, 30, 90, 250]
condition_input = portfolio_returns.values  # full history

results = {}
for h in horizons:
    paths, final_vals, var = simulate_generic_condition(G, condition_input, horizon=h)
    results[h] = {"paths": paths, "final_vals": final_vals, "var": var}
    print(f"✅ {h}-day 95% VaR: ${var:,.2f}")



# Plot sample paths
plt.figure(figsize=(12, 5))
for h in horizons:
    for i in range(10):
        plt.plot(results[h]["paths"][i], alpha=0.3, label=f"{h}-day" if i == 0 else "")
plt.title("Simulated Portfolio Paths (Generic cGAN)")
plt.xlabel("Days")
plt.ylabel("Portfolio Value")
plt.legend()
plt.grid(True)
plt.tight_layout()
plt.show()

# Histogram of final values
plt.figure(figsize=(12, 5))
for h in horizons:
    plt.hist(results[h]["final_vals"], bins=100, alpha=0.5, density=True, label=f"{h}-day")
    plt.axvline(np.percentile(results[h]["final_vals"], 5), color='red', linestyle='--')
plt.title("Distribution of Final Portfolio Values")
plt.xlabel("Final Portfolio Value")
plt.ylabel("Density")
plt.legend()
plt.grid(True)
plt.tight_layout()
plt.show()

# Bar chart of VaR
plt.figure(figsize=(8, 5))
plt.bar([f"{h}-day" for h in horizons], [results[h]["var"] for h in horizons], color='tomato')
plt.title("95% Value at Risk (VaR) by Horizon")
plt.ylabel("VaR ($)")
plt.grid(True)
plt.tight_layout()
plt.show()




